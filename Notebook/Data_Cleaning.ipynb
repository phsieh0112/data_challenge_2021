{
 "cells": [
  {
   "cell_type": "markdown",
   "id": "5075ff29",
   "metadata": {},
   "source": [
    "# Data Cleaning\n",
    "Input: 6 datasets - account, transaction, app, in-app, device & category reference <br>\n",
    "\n",
    "Output: \n",
    "1. Transaction data joined with account, app, in-app\n",
    "2. App data joined with in-app (aggregated), device, category"
   ]
  },
  {
   "cell_type": "code",
   "execution_count": 1,
   "id": "e10e1266",
   "metadata": {},
   "outputs": [],
   "source": [
    "import pandas as pd\n",
    "import numpy as np\n",
    "import seaborn as sns #visualisation\n",
    "import matplotlib.pyplot as plt #visualisation\n",
    "\n",
    "%matplotlib inline \n",
    "sns.set(color_codes=True)"
   ]
  },
  {
   "cell_type": "markdown",
   "id": "07f4f1c6",
   "metadata": {},
   "source": [
    "### Account Data"
   ]
  },
  {
   "cell_type": "code",
   "execution_count": 20,
   "id": "155097c0",
   "metadata": {},
   "outputs": [
    {
     "name": "stdout",
     "output_type": "stream",
     "text": [
      "(100000, 3)\n"
     ]
    },
    {
     "data": {
      "text/html": [
       "<div>\n",
       "<style scoped>\n",
       "    .dataframe tbody tr th:only-of-type {\n",
       "        vertical-align: middle;\n",
       "    }\n",
       "\n",
       "    .dataframe tbody tr th {\n",
       "        vertical-align: top;\n",
       "    }\n",
       "\n",
       "    .dataframe thead th {\n",
       "        text-align: right;\n",
       "    }\n",
       "</style>\n",
       "<table border=\"1\" class=\"dataframe\">\n",
       "  <thead>\n",
       "    <tr style=\"text-align: right;\">\n",
       "      <th></th>\n",
       "      <th>acct_id</th>\n",
       "      <th>create_dt</th>\n",
       "      <th>payment_type</th>\n",
       "    </tr>\n",
       "  </thead>\n",
       "  <tbody>\n",
       "    <tr>\n",
       "      <th>0</th>\n",
       "      <td>eb23e449d274bddb</td>\n",
       "      <td>2012-04-03</td>\n",
       "      <td>PMOF</td>\n",
       "    </tr>\n",
       "    <tr>\n",
       "      <th>1</th>\n",
       "      <td>3d60dcb8494a0d70</td>\n",
       "      <td>2009-08-31</td>\n",
       "      <td>PMOF</td>\n",
       "    </tr>\n",
       "    <tr>\n",
       "      <th>2</th>\n",
       "      <td>9b6d6fbf76504d85</td>\n",
       "      <td>2008-11-06</td>\n",
       "      <td>PMOF</td>\n",
       "    </tr>\n",
       "    <tr>\n",
       "      <th>3</th>\n",
       "      <td>343255370828b380</td>\n",
       "      <td>2012-01-03</td>\n",
       "      <td>PMOF</td>\n",
       "    </tr>\n",
       "    <tr>\n",
       "      <th>4</th>\n",
       "      <td>664e27f05189c387</td>\n",
       "      <td>2010-10-31</td>\n",
       "      <td>PMOF</td>\n",
       "    </tr>\n",
       "  </tbody>\n",
       "</table>\n",
       "</div>"
      ],
      "text/plain": [
       "            acct_id  create_dt payment_type\n",
       "0  eb23e449d274bddb 2012-04-03         PMOF\n",
       "1  3d60dcb8494a0d70 2009-08-31         PMOF\n",
       "2  9b6d6fbf76504d85 2008-11-06         PMOF\n",
       "3  343255370828b380 2012-01-03         PMOF\n",
       "4  664e27f05189c387 2010-10-31         PMOF"
      ]
     },
     "execution_count": 20,
     "metadata": {},
     "output_type": "execute_result"
    }
   ],
   "source": [
    "act = pd.read_csv('account_dat.csv')\n",
    "act.create_dt = pd.to_datetime(act['create_dt'])\n",
    "print(act.shape)\n",
    "act.head()"
   ]
  },
  {
   "cell_type": "code",
   "execution_count": 22,
   "id": "0c9c7988",
   "metadata": {},
   "outputs": [],
   "source": [
    "# Change create date to account create date due to the same field name is used in transaction data\n",
    "act = act.rename(columns = {'create_dt':'acct_create_dt'})"
   ]
  },
  {
   "cell_type": "code",
   "execution_count": 23,
   "id": "5a2ee50b",
   "metadata": {},
   "outputs": [
    {
     "data": {
      "text/plain": [
       "<AxesSubplot:xlabel='acct_create_dt'>"
      ]
     },
     "execution_count": 23,
     "metadata": {},
     "output_type": "execute_result"
    },
    {
     "data": {
      "image/png": "[encoded data removed]",
      "text/plain": [
       "<Figure size 432x288 with 1 Axes>"
      ]
     },
     "metadata": {},
     "output_type": "display_data"
    }
   ],
   "source": [
    "# Explore the frequency of account create date\n",
    "act.payment_type.groupby(act['acct_create_dt'].dt.year).count().plot(kind=\"bar\")"
   ]
  },
  {
   "cell_type": "markdown",
   "id": "edb91201",
   "metadata": {},
   "source": [
    "### App data, category & device"
   ]
  },
  {
   "cell_type": "code",
   "execution_count": 24,
   "id": "470bf32e",
   "metadata": {},
   "outputs": [
    {
     "data": {
      "text/html": [
       "<div>\n",
       "<style scoped>\n",
       "    .dataframe tbody tr th:only-of-type {\n",
       "        vertical-align: middle;\n",
       "    }\n",
       "\n",
       "    .dataframe tbody tr th {\n",
       "        vertical-align: top;\n",
       "    }\n",
       "\n",
       "    .dataframe thead th {\n",
       "        text-align: right;\n",
       "    }\n",
       "</style>\n",
       "<table border=\"1\" class=\"dataframe\">\n",
       "  <thead>\n",
       "    <tr style=\"text-align: right;\">\n",
       "      <th></th>\n",
       "      <th>app_name</th>\n",
       "      <th>content_id</th>\n",
       "      <th>category_id</th>\n",
       "      <th>device_id</th>\n",
       "      <th>category_name</th>\n",
       "      <th>device_name</th>\n",
       "    </tr>\n",
       "  </thead>\n",
       "  <tbody>\n",
       "    <tr>\n",
       "      <th>0</th>\n",
       "      <td>half-slouched having</td>\n",
       "      <td>22dfac9721b899cb</td>\n",
       "      <td>Y-8</td>\n",
       "      <td>3</td>\n",
       "      <td>Photos &amp; Videos</td>\n",
       "      <td>Both</td>\n",
       "    </tr>\n",
       "    <tr>\n",
       "      <th>1</th>\n",
       "      <td>That Zoology</td>\n",
       "      <td>6473dd29a2badbf1</td>\n",
       "      <td>Y-8</td>\n",
       "      <td>3</td>\n",
       "      <td>Photos &amp; Videos</td>\n",
       "      <td>Both</td>\n",
       "    </tr>\n",
       "    <tr>\n",
       "      <th>2</th>\n",
       "      <td>careful!--come stubbornly</td>\n",
       "      <td>ee013dcbf9ecc2b1</td>\n",
       "      <td>Y-8</td>\n",
       "      <td>3</td>\n",
       "      <td>Photos &amp; Videos</td>\n",
       "      <td>Both</td>\n",
       "    </tr>\n",
       "    <tr>\n",
       "      <th>3</th>\n",
       "      <td>Bang background</td>\n",
       "      <td>1c85ae3c9505ff55</td>\n",
       "      <td>Y-8</td>\n",
       "      <td>3</td>\n",
       "      <td>Photos &amp; Videos</td>\n",
       "      <td>Both</td>\n",
       "    </tr>\n",
       "    <tr>\n",
       "      <th>4</th>\n",
       "      <td>tides multitudinously</td>\n",
       "      <td>83f2675cd07166c3</td>\n",
       "      <td>Y-8</td>\n",
       "      <td>3</td>\n",
       "      <td>Photos &amp; Videos</td>\n",
       "      <td>Both</td>\n",
       "    </tr>\n",
       "  </tbody>\n",
       "</table>\n",
       "</div>"
      ],
      "text/plain": [
       "                    app_name        content_id category_id  device_id  \\\n",
       "0       half-slouched having  22dfac9721b899cb         Y-8          3   \n",
       "1               That Zoology  6473dd29a2badbf1         Y-8          3   \n",
       "2  careful!--come stubbornly  ee013dcbf9ecc2b1         Y-8          3   \n",
       "3            Bang background  1c85ae3c9505ff55         Y-8          3   \n",
       "4      tides multitudinously  83f2675cd07166c3         Y-8          3   \n",
       "\n",
       "     category_name device_name  \n",
       "0  Photos & Videos        Both  \n",
       "1  Photos & Videos        Both  \n",
       "2  Photos & Videos        Both  \n",
       "3  Photos & Videos        Both  \n",
       "4  Photos & Videos        Both  "
      ]
     },
     "execution_count": 24,
     "metadata": {},
     "output_type": "execute_result"
    }
   ],
   "source": [
    "# Join app data with category and device reference\n",
    "app = pd.read_csv('app_dat.csv')\n",
    "cate = pd.read_csv('category_ref.csv')\n",
    "dev = pd.read_csv('device_ref.csv')\n",
    "\n",
    "app = pd.merge(app, cate, on = 'category_id')\n",
    "app = pd.merge(app, dev, on = 'device_id')\n",
    "app.head()"
   ]
  },
  {
   "cell_type": "code",
   "execution_count": 27,
   "id": "3d92706e",
   "metadata": {},
   "outputs": [
    {
     "name": "stdout",
     "output_type": "stream",
     "text": [
      "<class 'pandas.core.frame.DataFrame'>\n",
      "Int64Index: 1000 entries, 0 to 999\n",
      "Data columns (total 6 columns):\n",
      " #   Column                 Non-Null Count  Dtype \n",
      "---  ------                 --------------  ----- \n",
      " 0   app_name               1000 non-null   object\n",
      " 1   parent_app_content_id  1000 non-null   object\n",
      " 2   category_id            1000 non-null   object\n",
      " 3   app_device_id          1000 non-null   int64 \n",
      " 4   category_name          1000 non-null   object\n",
      " 5   app_device_name        1000 non-null   object\n",
      "dtypes: int64(1), object(5)\n",
      "memory usage: 54.7+ KB\n"
     ]
    }
   ],
   "source": [
    "# Rename columns\n",
    "app.info()\n",
    "app = app.rename(columns = {'content_id':'parent_app_content_id','device_id':'app_device_id',\n",
    "                           'device_name':'app_device_name'})"
   ]
  },
  {
   "cell_type": "code",
   "execution_count": 29,
   "id": "5def76b6",
   "metadata": {},
   "outputs": [
    {
     "name": "stdout",
     "output_type": "stream",
     "text": [
      "1000\n",
      "----- Category -----------------\n",
      "Games                392\n",
      "Photos & Videos      260\n",
      "Utilities            153\n",
      "Entertainment        149\n",
      "Social Networking     46\n",
      "Name: category_name, dtype: int64\n",
      "----- Device -----------------\n",
      "Both      815\n",
      "iPad       97\n",
      "iPhone     88\n",
      "Name: app_device_name, dtype: int64\n"
     ]
    }
   ],
   "source": [
    "# Understand value counts of app, app category, device \n",
    "print(app.parent_app_content_id.nunique())\n",
    "print('----- Category -----------------')\n",
    "print(app.category_name.value_counts())\n",
    "print('----- Device -----------------')\n",
    "print(app.app_device_name.value_counts())"
   ]
  },
  {
   "cell_type": "markdown",
   "id": "8e8ef1d3",
   "metadata": {},
   "source": [
    "### In-App data"
   ]
  },
  {
   "cell_type": "code",
   "execution_count": 31,
   "id": "9c921e29",
   "metadata": {},
   "outputs": [
    {
     "name": "stdout",
     "output_type": "stream",
     "text": [
      "(2376, 3)\n"
     ]
    },
    {
     "data": {
      "text/html": [
       "<div>\n",
       "<style scoped>\n",
       "    .dataframe tbody tr th:only-of-type {\n",
       "        vertical-align: middle;\n",
       "    }\n",
       "\n",
       "    .dataframe tbody tr th {\n",
       "        vertical-align: top;\n",
       "    }\n",
       "\n",
       "    .dataframe thead th {\n",
       "        text-align: right;\n",
       "    }\n",
       "</style>\n",
       "<table border=\"1\" class=\"dataframe\">\n",
       "  <thead>\n",
       "    <tr style=\"text-align: right;\">\n",
       "      <th></th>\n",
       "      <th>parent_app_content_id</th>\n",
       "      <th>content_id</th>\n",
       "      <th>type</th>\n",
       "    </tr>\n",
       "  </thead>\n",
       "  <tbody>\n",
       "    <tr>\n",
       "      <th>0</th>\n",
       "      <td>d2bde35599e0dae9</td>\n",
       "      <td>227227a77c59809b</td>\n",
       "      <td>consumable</td>\n",
       "    </tr>\n",
       "    <tr>\n",
       "      <th>1</th>\n",
       "      <td>d2bde35599e0dae9</td>\n",
       "      <td>41ac2362a2600185</td>\n",
       "      <td>consumable</td>\n",
       "    </tr>\n",
       "    <tr>\n",
       "      <th>2</th>\n",
       "      <td>d2bde35599e0dae9</td>\n",
       "      <td>64a8e16f030bb611</td>\n",
       "      <td>consumable</td>\n",
       "    </tr>\n",
       "    <tr>\n",
       "      <th>3</th>\n",
       "      <td>d2bde35599e0dae9</td>\n",
       "      <td>2c8ba424183afa7c</td>\n",
       "      <td>consumable</td>\n",
       "    </tr>\n",
       "    <tr>\n",
       "      <th>4</th>\n",
       "      <td>d2bde35599e0dae9</td>\n",
       "      <td>b4c42fa5cc420f7b</td>\n",
       "      <td>consumable</td>\n",
       "    </tr>\n",
       "  </tbody>\n",
       "</table>\n",
       "</div>"
      ],
      "text/plain": [
       "  parent_app_content_id        content_id        type\n",
       "0      d2bde35599e0dae9  227227a77c59809b  consumable\n",
       "1      d2bde35599e0dae9  41ac2362a2600185  consumable\n",
       "2      d2bde35599e0dae9  64a8e16f030bb611  consumable\n",
       "3      d2bde35599e0dae9  2c8ba424183afa7c  consumable\n",
       "4      d2bde35599e0dae9  b4c42fa5cc420f7b  consumable"
      ]
     },
     "execution_count": 31,
     "metadata": {},
     "output_type": "execute_result"
    }
   ],
   "source": [
    "inapp = pd.read_csv('in-app_dat.csv')\n",
    "print(inapp.shape)\n",
    "inapp.head()"
   ]
  },
  {
   "cell_type": "code",
   "execution_count": 40,
   "id": "cef5ade0",
   "metadata": {},
   "outputs": [
    {
     "name": "stdout",
     "output_type": "stream",
     "text": [
      "476\n",
      "----- In-App Content -----------------\n",
      "2376\n",
      "----- In-app Purchase Type -----------------\n",
      "consumable      2107\n",
      "subscription     269\n",
      "Name: type, dtype: int64\n"
     ]
    }
   ],
   "source": [
    "# Understand value counts of app, in app content_id, type \n",
    "print(inapp.parent_app_content_id.nunique())\n",
    "print('----- In-App Content -----------------')\n",
    "print(inapp.content_id.nunique())\n",
    "print('----- In-app Purchase Type -----------------')\n",
    "print(inapp.type.value_counts())"
   ]
  },
  {
   "cell_type": "markdown",
   "id": "cb9a63a3",
   "metadata": {},
   "source": [
    "### Transaction Data"
   ]
  },
  {
   "cell_type": "code",
   "execution_count": 76,
   "id": "38b0d5a0",
   "metadata": {},
   "outputs": [
    {
     "name": "stdout",
     "output_type": "stream",
     "text": [
      "(3607509, 5)\n"
     ]
    },
    {
     "data": {
      "text/html": [
       "<div>\n",
       "<style scoped>\n",
       "    .dataframe tbody tr th:only-of-type {\n",
       "        vertical-align: middle;\n",
       "    }\n",
       "\n",
       "    .dataframe tbody tr th {\n",
       "        vertical-align: top;\n",
       "    }\n",
       "\n",
       "    .dataframe thead th {\n",
       "        text-align: right;\n",
       "    }\n",
       "</style>\n",
       "<table border=\"1\" class=\"dataframe\">\n",
       "  <thead>\n",
       "    <tr style=\"text-align: right;\">\n",
       "      <th></th>\n",
       "      <th>create_dt</th>\n",
       "      <th>content_id</th>\n",
       "      <th>acct_id</th>\n",
       "      <th>price</th>\n",
       "      <th>device_id</th>\n",
       "    </tr>\n",
       "  </thead>\n",
       "  <tbody>\n",
       "    <tr>\n",
       "      <th>0</th>\n",
       "      <td>2016-08-28</td>\n",
       "      <td>b6cf4f33e7455df4</td>\n",
       "      <td>220574a7a6a71afa</td>\n",
       "      <td>11.99</td>\n",
       "      <td>1</td>\n",
       "    </tr>\n",
       "    <tr>\n",
       "      <th>1</th>\n",
       "      <td>2016-09-16</td>\n",
       "      <td>71ac3e9c38ddbbba</td>\n",
       "      <td>8551f69a5015ea6a</td>\n",
       "      <td>1.99</td>\n",
       "      <td>2</td>\n",
       "    </tr>\n",
       "    <tr>\n",
       "      <th>2</th>\n",
       "      <td>2016-08-15</td>\n",
       "      <td>776b851b916c33d1</td>\n",
       "      <td>7dedf309494a1966</td>\n",
       "      <td>0.99</td>\n",
       "      <td>2</td>\n",
       "    </tr>\n",
       "    <tr>\n",
       "      <th>3</th>\n",
       "      <td>2016-06-17</td>\n",
       "      <td>7a47ca132a8dc695</td>\n",
       "      <td>7174a81c796dcf7e</td>\n",
       "      <td>1.99</td>\n",
       "      <td>2</td>\n",
       "    </tr>\n",
       "    <tr>\n",
       "      <th>4</th>\n",
       "      <td>2016-06-13</td>\n",
       "      <td>30581219bc952dbb</td>\n",
       "      <td>35aaf59d64a677e7</td>\n",
       "      <td>11.99</td>\n",
       "      <td>2</td>\n",
       "    </tr>\n",
       "  </tbody>\n",
       "</table>\n",
       "</div>"
      ],
      "text/plain": [
       "   create_dt        content_id           acct_id  price  device_id\n",
       "0 2016-08-28  b6cf4f33e7455df4  220574a7a6a71afa  11.99          1\n",
       "1 2016-09-16  71ac3e9c38ddbbba  8551f69a5015ea6a   1.99          2\n",
       "2 2016-08-15  776b851b916c33d1  7dedf309494a1966   0.99          2\n",
       "3 2016-06-17  7a47ca132a8dc695  7174a81c796dcf7e   1.99          2\n",
       "4 2016-06-13  30581219bc952dbb  35aaf59d64a677e7  11.99          2"
      ]
     },
     "execution_count": 76,
     "metadata": {},
     "output_type": "execute_result"
    }
   ],
   "source": [
    "trans = pd.read_csv('transaction_dat.csv')\n",
    "trans.create_dt = pd.to_datetime(trans['create_dt'])\n",
    "print(trans.shape)\n",
    "trans.head()"
   ]
  },
  {
   "cell_type": "code",
   "execution_count": 35,
   "id": "501f4591",
   "metadata": {},
   "outputs": [
    {
     "name": "stdout",
     "output_type": "stream",
     "text": [
      "<class 'pandas.core.frame.DataFrame'>\n",
      "RangeIndex: 3607509 entries, 0 to 3607508\n",
      "Data columns (total 5 columns):\n",
      " #   Column      Dtype         \n",
      "---  ------      -----         \n",
      " 0   create_dt   datetime64[ns]\n",
      " 1   content_id  object        \n",
      " 2   acct_id     object        \n",
      " 3   price       float64       \n",
      " 4   device_id   int64         \n",
      "dtypes: datetime64[ns](1), float64(1), int64(1), object(2)\n",
      "memory usage: 137.6+ MB\n"
     ]
    }
   ],
   "source": [
    "trans.info()"
   ]
  },
  {
   "cell_type": "code",
   "execution_count": 38,
   "id": "e7b9c3c9",
   "metadata": {},
   "outputs": [
    {
     "data": {
      "text/plain": [
       "<AxesSubplot:xlabel='price'>"
      ]
     },
     "execution_count": 38,
     "metadata": {},
     "output_type": "execute_result"
    },
    {
     "data": {
      "image/png": "[encoded data removed]",
      "text/plain": [
       "<Figure size 432x288 with 1 Axes>"
      ]
     },
     "metadata": {},
     "output_type": "display_data"
    }
   ],
   "source": [
    "# Understand the price distribution\n",
    "sns.boxplot(x=trans.price)"
   ]
  },
  {
   "cell_type": "code",
   "execution_count": 39,
   "id": "fe587c3e",
   "metadata": {},
   "outputs": [
    {
     "data": {
      "text/plain": [
       "<AxesSubplot:xlabel='price'>"
      ]
     },
     "execution_count": 39,
     "metadata": {},
     "output_type": "execute_result"
    },
    {
     "data": {
      "image/png": "[encoded data removed]",
      "text/plain": [
       "<Figure size 432x288 with 1 Axes>"
      ]
     },
     "metadata": {},
     "output_type": "display_data"
    }
   ],
   "source": [
    "# Explore the frequency of transactions at different prices\n",
    "trans.acct_id.groupby(trans.price).count().plot(kind=\"bar\")"
   ]
  },
  {
   "cell_type": "code",
   "execution_count": 42,
   "id": "39743e29",
   "metadata": {
    "scrolled": false
   },
   "outputs": [
    {
     "name": "stdout",
     "output_type": "stream",
     "text": [
      "The maximum of transaction date:  2016-09-21 00:00:00\n",
      "The minimum of transaction date:  2016-06-01 00:00:00\n"
     ]
    },
    {
     "data": {
      "text/plain": [
       "<AxesSubplot:xlabel='create_dt'>"
      ]
     },
     "execution_count": 42,
     "metadata": {},
     "output_type": "execute_result"
    },
    {
     "data": {
      "image/png": "[encoded data removed]",
      "text/plain": [
       "<Figure size 432x288 with 1 Axes>"
      ]
     },
     "metadata": {},
     "output_type": "display_data"
    }
   ],
   "source": [
    "#The min & max transaction date\n",
    "print('The maximum of transaction date: ', max(trans.create_dt)) #Finding: Sep does not have full month volume\n",
    "print('The minimum of transaction date: ', min(trans.create_dt))\n",
    "\n",
    "# Explore the frequency of transaction month\n",
    "trans.acct_id.groupby(trans.create_dt.dt.month).count().plot(kind=\"bar\")"
   ]
  },
  {
   "cell_type": "markdown",
   "id": "bab0e538",
   "metadata": {},
   "source": [
    "#### Finding 1: some accounts are not in the account table"
   ]
  },
  {
   "cell_type": "code",
   "execution_count": 77,
   "id": "be679c67",
   "metadata": {},
   "outputs": [
    {
     "name": "stdout",
     "output_type": "stream",
     "text": [
      "Unique account_id w/ transactions:  30000\n",
      "Unique account_id after join:  29975\n"
     ]
    }
   ],
   "source": [
    "# Join transaction data with account data\n",
    "print('Unique account_id w/ transactions: ', trans.acct_id.nunique())\n",
    "trans = pd.merge(act, trans, on = 'acct_id')\n",
    "print('Unique account_id after join: ',trans.acct_id.nunique()) #Finding: 25 accounts are not in the account table\n"
   ]
  },
  {
   "cell_type": "code",
   "execution_count": 52,
   "id": "2b2523e9",
   "metadata": {},
   "outputs": [
    {
     "data": {
      "text/html": [
       "<div>\n",
       "<style scoped>\n",
       "    .dataframe tbody tr th:only-of-type {\n",
       "        vertical-align: middle;\n",
       "    }\n",
       "\n",
       "    .dataframe tbody tr th {\n",
       "        vertical-align: top;\n",
       "    }\n",
       "\n",
       "    .dataframe thead th {\n",
       "        text-align: right;\n",
       "    }\n",
       "</style>\n",
       "<table border=\"1\" class=\"dataframe\">\n",
       "  <thead>\n",
       "    <tr style=\"text-align: right;\">\n",
       "      <th></th>\n",
       "      <th>acct_id</th>\n",
       "      <th>acct_create_dt</th>\n",
       "      <th>payment_type</th>\n",
       "      <th>create_dt</th>\n",
       "      <th>content_id</th>\n",
       "      <th>price</th>\n",
       "      <th>device_id</th>\n",
       "    </tr>\n",
       "  </thead>\n",
       "  <tbody>\n",
       "    <tr>\n",
       "      <th>0</th>\n",
       "      <td>9b6d6fbf76504d85</td>\n",
       "      <td>2008-11-06</td>\n",
       "      <td>PMOF</td>\n",
       "      <td>2016-08-29</td>\n",
       "      <td>a013e9d8a77241b8</td>\n",
       "      <td>11.99</td>\n",
       "      <td>1</td>\n",
       "    </tr>\n",
       "    <tr>\n",
       "      <th>1</th>\n",
       "      <td>9b6d6fbf76504d85</td>\n",
       "      <td>2008-11-06</td>\n",
       "      <td>PMOF</td>\n",
       "      <td>2016-07-23</td>\n",
       "      <td>470b6fed814e5e36</td>\n",
       "      <td>26.99</td>\n",
       "      <td>1</td>\n",
       "    </tr>\n",
       "    <tr>\n",
       "      <th>2</th>\n",
       "      <td>9b6d6fbf76504d85</td>\n",
       "      <td>2008-11-06</td>\n",
       "      <td>PMOF</td>\n",
       "      <td>2016-09-10</td>\n",
       "      <td>ef5fd462c23f239d</td>\n",
       "      <td>17.99</td>\n",
       "      <td>1</td>\n",
       "    </tr>\n",
       "    <tr>\n",
       "      <th>3</th>\n",
       "      <td>9b6d6fbf76504d85</td>\n",
       "      <td>2008-11-06</td>\n",
       "      <td>PMOF</td>\n",
       "      <td>2016-09-06</td>\n",
       "      <td>dea0fb807a190267</td>\n",
       "      <td>1.99</td>\n",
       "      <td>2</td>\n",
       "    </tr>\n",
       "    <tr>\n",
       "      <th>4</th>\n",
       "      <td>9b6d6fbf76504d85</td>\n",
       "      <td>2008-11-06</td>\n",
       "      <td>PMOF</td>\n",
       "      <td>2016-07-06</td>\n",
       "      <td>a55ed89700affd0f</td>\n",
       "      <td>17.99</td>\n",
       "      <td>1</td>\n",
       "    </tr>\n",
       "  </tbody>\n",
       "</table>\n",
       "</div>"
      ],
      "text/plain": [
       "            acct_id acct_create_dt payment_type  create_dt        content_id  \\\n",
       "0  9b6d6fbf76504d85     2008-11-06         PMOF 2016-08-29  a013e9d8a77241b8   \n",
       "1  9b6d6fbf76504d85     2008-11-06         PMOF 2016-07-23  470b6fed814e5e36   \n",
       "2  9b6d6fbf76504d85     2008-11-06         PMOF 2016-09-10  ef5fd462c23f239d   \n",
       "3  9b6d6fbf76504d85     2008-11-06         PMOF 2016-09-06  dea0fb807a190267   \n",
       "4  9b6d6fbf76504d85     2008-11-06         PMOF 2016-07-06  a55ed89700affd0f   \n",
       "\n",
       "   price  device_id  \n",
       "0  11.99          1  \n",
       "1  26.99          1  \n",
       "2  17.99          1  \n",
       "3   1.99          2  \n",
       "4  17.99          1  "
      ]
     },
     "execution_count": 52,
     "metadata": {},
     "output_type": "execute_result"
    }
   ],
   "source": [
    "trans.head()"
   ]
  },
  {
   "cell_type": "markdown",
   "id": "198df219",
   "metadata": {},
   "source": [
    "#### Finding 2: some transactions were made before accounts were created"
   ]
  },
  {
   "cell_type": "code",
   "execution_count": 80,
   "id": "f1114a03",
   "metadata": {},
   "outputs": [
    {
     "name": "stderr",
     "output_type": "stream",
     "text": [
      "C:\\Users\\steve\\anaconda3\\lib\\site-packages\\ipykernel_launcher.py:3: FutureWarning: Indexing with multiple keys (implicitly converted to a tuple of keys) will be deprecated, use a list instead.\n",
      "  This is separate from the ipykernel package so we can avoid doing imports until\n"
     ]
    },
    {
     "name": "stdout",
     "output_type": "stream",
     "text": [
      "0    26488\n",
      "1     3487\n",
      "Name: Check, dtype: int64\n"
     ]
    }
   ],
   "source": [
    "# Confirm all transactions were made after accounts were created\n",
    "\n",
    "test = trans.loc[:,['acct_id','acct_create_dt','create_dt']].groupby('acct_id')['acct_create_dt','create_dt'].min()\n",
    "test.loc[:,'Check']=0\n",
    "test.loc[test.create_dt < test.acct_create_dt, 'Check'] = 1\n",
    "\n",
    "\n",
    "print(test.Check.value_counts()) #233,420 transactions happened earlier. 3,487 users\n",
    "test = test.loc[test.Check ==1,:].reset_index()\n",
    "test = test.drop(['acct_create_dt','create_dt','Check'], axis = 1)"
   ]
  },
  {
   "cell_type": "code",
   "execution_count": 82,
   "id": "89420250",
   "metadata": {},
   "outputs": [
    {
     "name": "stdout",
     "output_type": "stream",
     "text": [
      "29975\n",
      "After left join:  26488\n"
     ]
    }
   ],
   "source": [
    "# Exclude transactions from the ones that happened before acct was created\n",
    "print(trans.acct_id.nunique())\n",
    "trans = pd.merge(trans, test, on = 'acct_id', how = 'outer', indicator = True).query('_merge == \"left_only\"')\n",
    "print('After left join: ',trans.acct_id.nunique()) # Drop 3,487 accounts"
   ]
  },
  {
   "cell_type": "code",
   "execution_count": 83,
   "id": "59d29620",
   "metadata": {},
   "outputs": [
    {
     "data": {
      "text/html": [
       "<div>\n",
       "<style scoped>\n",
       "    .dataframe tbody tr th:only-of-type {\n",
       "        vertical-align: middle;\n",
       "    }\n",
       "\n",
       "    .dataframe tbody tr th {\n",
       "        vertical-align: top;\n",
       "    }\n",
       "\n",
       "    .dataframe thead th {\n",
       "        text-align: right;\n",
       "    }\n",
       "</style>\n",
       "<table border=\"1\" class=\"dataframe\">\n",
       "  <thead>\n",
       "    <tr style=\"text-align: right;\">\n",
       "      <th></th>\n",
       "      <th>acct_id</th>\n",
       "      <th>acct_create_dt</th>\n",
       "      <th>payment_type</th>\n",
       "      <th>create_dt</th>\n",
       "      <th>content_id</th>\n",
       "      <th>price</th>\n",
       "      <th>device_id</th>\n",
       "      <th>_merge</th>\n",
       "    </tr>\n",
       "  </thead>\n",
       "  <tbody>\n",
       "    <tr>\n",
       "      <th>0</th>\n",
       "      <td>9b6d6fbf76504d85</td>\n",
       "      <td>2008-11-06</td>\n",
       "      <td>PMOF</td>\n",
       "      <td>2016-08-29</td>\n",
       "      <td>a013e9d8a77241b8</td>\n",
       "      <td>11.99</td>\n",
       "      <td>1</td>\n",
       "      <td>left_only</td>\n",
       "    </tr>\n",
       "    <tr>\n",
       "      <th>1</th>\n",
       "      <td>9b6d6fbf76504d85</td>\n",
       "      <td>2008-11-06</td>\n",
       "      <td>PMOF</td>\n",
       "      <td>2016-07-23</td>\n",
       "      <td>470b6fed814e5e36</td>\n",
       "      <td>26.99</td>\n",
       "      <td>1</td>\n",
       "      <td>left_only</td>\n",
       "    </tr>\n",
       "    <tr>\n",
       "      <th>2</th>\n",
       "      <td>9b6d6fbf76504d85</td>\n",
       "      <td>2008-11-06</td>\n",
       "      <td>PMOF</td>\n",
       "      <td>2016-09-10</td>\n",
       "      <td>ef5fd462c23f239d</td>\n",
       "      <td>17.99</td>\n",
       "      <td>1</td>\n",
       "      <td>left_only</td>\n",
       "    </tr>\n",
       "    <tr>\n",
       "      <th>3</th>\n",
       "      <td>9b6d6fbf76504d85</td>\n",
       "      <td>2008-11-06</td>\n",
       "      <td>PMOF</td>\n",
       "      <td>2016-09-06</td>\n",
       "      <td>dea0fb807a190267</td>\n",
       "      <td>1.99</td>\n",
       "      <td>2</td>\n",
       "      <td>left_only</td>\n",
       "    </tr>\n",
       "    <tr>\n",
       "      <th>4</th>\n",
       "      <td>9b6d6fbf76504d85</td>\n",
       "      <td>2008-11-06</td>\n",
       "      <td>PMOF</td>\n",
       "      <td>2016-07-06</td>\n",
       "      <td>a55ed89700affd0f</td>\n",
       "      <td>17.99</td>\n",
       "      <td>1</td>\n",
       "      <td>left_only</td>\n",
       "    </tr>\n",
       "  </tbody>\n",
       "</table>\n",
       "</div>"
      ],
      "text/plain": [
       "            acct_id acct_create_dt payment_type  create_dt        content_id  \\\n",
       "0  9b6d6fbf76504d85     2008-11-06         PMOF 2016-08-29  a013e9d8a77241b8   \n",
       "1  9b6d6fbf76504d85     2008-11-06         PMOF 2016-07-23  470b6fed814e5e36   \n",
       "2  9b6d6fbf76504d85     2008-11-06         PMOF 2016-09-10  ef5fd462c23f239d   \n",
       "3  9b6d6fbf76504d85     2008-11-06         PMOF 2016-09-06  dea0fb807a190267   \n",
       "4  9b6d6fbf76504d85     2008-11-06         PMOF 2016-07-06  a55ed89700affd0f   \n",
       "\n",
       "   price  device_id     _merge  \n",
       "0  11.99          1  left_only  \n",
       "1  26.99          1  left_only  \n",
       "2  17.99          1  left_only  \n",
       "3   1.99          2  left_only  \n",
       "4  17.99          1  left_only  "
      ]
     },
     "execution_count": 83,
     "metadata": {},
     "output_type": "execute_result"
    }
   ],
   "source": [
    "trans.head()"
   ]
  },
  {
   "cell_type": "markdown",
   "id": "f46a77e5",
   "metadata": {},
   "source": [
    "#### Finding 3: some transaction records are duplicated"
   ]
  },
  {
   "cell_type": "code",
   "execution_count": 84,
   "id": "71a56722",
   "metadata": {},
   "outputs": [
    {
     "name": "stdout",
     "output_type": "stream",
     "text": [
      "(3333699, 8)\n",
      "number of duplicate rows:  (1952, 8)\n",
      "After dropping duplicates:  (3331747, 8)\n"
     ]
    }
   ],
   "source": [
    "# Check for duplicated records\n",
    "print(trans.shape)\n",
    "duplicate_rows_df = trans[trans.duplicated()]\n",
    "print('number of duplicate rows: ', duplicate_rows_df.shape) #3900 duplicated records\n",
    "\n",
    "trans = trans.drop_duplicates()\n",
    "print('After dropping duplicates: ',trans.shape)"
   ]
  },
  {
   "cell_type": "markdown",
   "id": "f34d1001",
   "metadata": {},
   "source": [
    "#### Finding 4: about 150 users have high numbers of transactions"
   ]
  },
  {
   "cell_type": "code",
   "execution_count": 85,
   "id": "271ffbd8",
   "metadata": {},
   "outputs": [
    {
     "data": {
      "text/html": [
       "<div>\n",
       "<style scoped>\n",
       "    .dataframe tbody tr th:only-of-type {\n",
       "        vertical-align: middle;\n",
       "    }\n",
       "\n",
       "    .dataframe tbody tr th {\n",
       "        vertical-align: top;\n",
       "    }\n",
       "\n",
       "    .dataframe thead th {\n",
       "        text-align: right;\n",
       "    }\n",
       "</style>\n",
       "<table border=\"1\" class=\"dataframe\">\n",
       "  <thead>\n",
       "    <tr style=\"text-align: right;\">\n",
       "      <th></th>\n",
       "      <th>create_dt</th>\n",
       "    </tr>\n",
       "  </thead>\n",
       "  <tbody>\n",
       "    <tr>\n",
       "      <th>count</th>\n",
       "      <td>26488.000000</td>\n",
       "    </tr>\n",
       "    <tr>\n",
       "      <th>mean</th>\n",
       "      <td>125.783260</td>\n",
       "    </tr>\n",
       "    <tr>\n",
       "      <th>std</th>\n",
       "      <td>97.560791</td>\n",
       "    </tr>\n",
       "    <tr>\n",
       "      <th>min</th>\n",
       "      <td>46.000000</td>\n",
       "    </tr>\n",
       "    <tr>\n",
       "      <th>25%</th>\n",
       "      <td>79.000000</td>\n",
       "    </tr>\n",
       "    <tr>\n",
       "      <th>50%</th>\n",
       "      <td>137.000000</td>\n",
       "    </tr>\n",
       "    <tr>\n",
       "      <th>75%</th>\n",
       "      <td>153.000000</td>\n",
       "    </tr>\n",
       "    <tr>\n",
       "      <th>max</th>\n",
       "      <td>1353.000000</td>\n",
       "    </tr>\n",
       "  </tbody>\n",
       "</table>\n",
       "</div>"
      ],
      "text/plain": [
       "          create_dt\n",
       "count  26488.000000\n",
       "mean     125.783260\n",
       "std       97.560791\n",
       "min       46.000000\n",
       "25%       79.000000\n",
       "50%      137.000000\n",
       "75%      153.000000\n",
       "max     1353.000000"
      ]
     },
     "execution_count": 85,
     "metadata": {},
     "output_type": "execute_result"
    }
   ],
   "source": [
    "df = trans.groupby('acct_id')['create_dt'].count().sort_values().reset_index()\n",
    "df.describe()"
   ]
  },
  {
   "cell_type": "code",
   "execution_count": 87,
   "id": "098c8c40",
   "metadata": {},
   "outputs": [
    {
     "data": {
      "text/plain": [
       "(array([ 3.,  9., 26., 28., 20., 29., 18., 13.,  1.,  3.]),\n",
       " array([1289. , 1295.4, 1301.8, 1308.2, 1314.6, 1321. , 1327.4, 1333.8,\n",
       "        1340.2, 1346.6, 1353. ]),\n",
       " <BarContainer object of 10 artists>)"
      ]
     },
     "execution_count": 87,
     "metadata": {},
     "output_type": "execute_result"
    },
    {
     "data": {
      "image/png": "[encoded data removed]",
      "text/plain": [
       "<Figure size 432x288 with 1 Axes>"
      ]
     },
     "metadata": {},
     "output_type": "display_data"
    }
   ],
   "source": [
    "# The distribution of users w/ over 1K transactions\n",
    "df1 = df[df['create_dt'] > 1000]\n",
    "plt.hist(df1.create_dt)"
   ]
  },
  {
   "cell_type": "markdown",
   "id": "b86fd4fb",
   "metadata": {},
   "source": [
    "#### Finding 5: content id can be parent_app_content_id or in-app content_id"
   ]
  },
  {
   "cell_type": "code",
   "execution_count": 90,
   "id": "c67704f7",
   "metadata": {},
   "outputs": [
    {
     "name": "stdout",
     "output_type": "stream",
     "text": [
      "(3331747, 7)\n"
     ]
    },
    {
     "data": {
      "text/html": [
       "<div>\n",
       "<style scoped>\n",
       "    .dataframe tbody tr th:only-of-type {\n",
       "        vertical-align: middle;\n",
       "    }\n",
       "\n",
       "    .dataframe tbody tr th {\n",
       "        vertical-align: top;\n",
       "    }\n",
       "\n",
       "    .dataframe thead th {\n",
       "        text-align: right;\n",
       "    }\n",
       "</style>\n",
       "<table border=\"1\" class=\"dataframe\">\n",
       "  <thead>\n",
       "    <tr style=\"text-align: right;\">\n",
       "      <th></th>\n",
       "      <th>acct_id</th>\n",
       "      <th>acct_create_dt</th>\n",
       "      <th>payment_type</th>\n",
       "      <th>create_dt</th>\n",
       "      <th>content_id</th>\n",
       "      <th>price</th>\n",
       "      <th>device_id</th>\n",
       "    </tr>\n",
       "  </thead>\n",
       "  <tbody>\n",
       "    <tr>\n",
       "      <th>0</th>\n",
       "      <td>9b6d6fbf76504d85</td>\n",
       "      <td>2008-11-06</td>\n",
       "      <td>PMOF</td>\n",
       "      <td>2016-08-29</td>\n",
       "      <td>a013e9d8a77241b8</td>\n",
       "      <td>11.99</td>\n",
       "      <td>1</td>\n",
       "    </tr>\n",
       "    <tr>\n",
       "      <th>1</th>\n",
       "      <td>9b6d6fbf76504d85</td>\n",
       "      <td>2008-11-06</td>\n",
       "      <td>PMOF</td>\n",
       "      <td>2016-07-23</td>\n",
       "      <td>470b6fed814e5e36</td>\n",
       "      <td>26.99</td>\n",
       "      <td>1</td>\n",
       "    </tr>\n",
       "    <tr>\n",
       "      <th>2</th>\n",
       "      <td>9b6d6fbf76504d85</td>\n",
       "      <td>2008-11-06</td>\n",
       "      <td>PMOF</td>\n",
       "      <td>2016-09-10</td>\n",
       "      <td>ef5fd462c23f239d</td>\n",
       "      <td>17.99</td>\n",
       "      <td>1</td>\n",
       "    </tr>\n",
       "    <tr>\n",
       "      <th>3</th>\n",
       "      <td>9b6d6fbf76504d85</td>\n",
       "      <td>2008-11-06</td>\n",
       "      <td>PMOF</td>\n",
       "      <td>2016-09-06</td>\n",
       "      <td>dea0fb807a190267</td>\n",
       "      <td>1.99</td>\n",
       "      <td>2</td>\n",
       "    </tr>\n",
       "    <tr>\n",
       "      <th>4</th>\n",
       "      <td>9b6d6fbf76504d85</td>\n",
       "      <td>2008-11-06</td>\n",
       "      <td>PMOF</td>\n",
       "      <td>2016-07-06</td>\n",
       "      <td>a55ed89700affd0f</td>\n",
       "      <td>17.99</td>\n",
       "      <td>1</td>\n",
       "    </tr>\n",
       "  </tbody>\n",
       "</table>\n",
       "</div>"
      ],
      "text/plain": [
       "            acct_id acct_create_dt payment_type  create_dt        content_id  \\\n",
       "0  9b6d6fbf76504d85     2008-11-06         PMOF 2016-08-29  a013e9d8a77241b8   \n",
       "1  9b6d6fbf76504d85     2008-11-06         PMOF 2016-07-23  470b6fed814e5e36   \n",
       "2  9b6d6fbf76504d85     2008-11-06         PMOF 2016-09-10  ef5fd462c23f239d   \n",
       "3  9b6d6fbf76504d85     2008-11-06         PMOF 2016-09-06  dea0fb807a190267   \n",
       "4  9b6d6fbf76504d85     2008-11-06         PMOF 2016-07-06  a55ed89700affd0f   \n",
       "\n",
       "   price  device_id  \n",
       "0  11.99          1  \n",
       "1  26.99          1  \n",
       "2  17.99          1  \n",
       "3   1.99          2  \n",
       "4  17.99          1  "
      ]
     },
     "execution_count": 90,
     "metadata": {},
     "output_type": "execute_result"
    }
   ],
   "source": [
    "trans = trans.drop(['_merge'], axis = 1)\n",
    "print(trans.shape)\n",
    "trans.head()"
   ]
  },
  {
   "cell_type": "code",
   "execution_count": 91,
   "id": "4d173fa7",
   "metadata": {},
   "outputs": [
    {
     "name": "stdout",
     "output_type": "stream",
     "text": [
      "(3331747, 10)\n"
     ]
    },
    {
     "data": {
      "text/plain": [
       "both          2010984\n",
       "left_only     1320763\n",
       "right_only          0\n",
       "Name: _merge, dtype: int64"
      ]
     },
     "execution_count": 91,
     "metadata": {},
     "output_type": "execute_result"
    }
   ],
   "source": [
    "# Join clean transaction data with in-app\n",
    "df = pd.merge(trans, inapp, on = 'content_id', how = 'outer', indicator = True)\n",
    "print(df.shape)\n",
    "\n",
    "# Review merge results\n",
    "df._merge.value_counts()"
   ]
  },
  {
   "cell_type": "code",
   "execution_count": 92,
   "id": "1a42de93",
   "metadata": {},
   "outputs": [
    {
     "name": "stdout",
     "output_type": "stream",
     "text": [
      "(2010984, 9)\n",
      "(1320763, 9)\n"
     ]
    }
   ],
   "source": [
    "# Seperate trans into two dataframe for join purpose\n",
    "\n",
    "df1 = df.loc[df._merge == 'both',:].drop('_merge', axis = 1)\n",
    "print(df1.shape)\n",
    "\n",
    "df2 = df.loc[df._merge == 'left_only',:].drop('_merge', axis = 1)\n",
    "print(df2.shape)"
   ]
  },
  {
   "cell_type": "code",
   "execution_count": 93,
   "id": "f134c5d6",
   "metadata": {},
   "outputs": [
    {
     "data": {
      "text/plain": [
       "both          2010984\n",
       "left_only           0\n",
       "right_only          0\n",
       "Name: _merge, dtype: int64"
      ]
     },
     "execution_count": 93,
     "metadata": {},
     "output_type": "execute_result"
    }
   ],
   "source": [
    "# First dataframe joins with app data on parent_app_content_id -> these are in-app purchase history\n",
    "df1 = pd.merge(df1, app, on = 'parent_app_content_id', how = 'left', indicator = True)\n",
    "df1.shape\n",
    "df1._merge.value_counts()"
   ]
  },
  {
   "cell_type": "code",
   "execution_count": 94,
   "id": "9dfafd57",
   "metadata": {},
   "outputs": [
    {
     "data": {
      "text/plain": [
       "both          1320763\n",
       "left_only           0\n",
       "right_only          0\n",
       "Name: _merge, dtype: int64"
      ]
     },
     "execution_count": 94,
     "metadata": {},
     "output_type": "execute_result"
    }
   ],
   "source": [
    "# Second dataframe joins with app data with content_id\n",
    "df2 = pd.merge(df2, app, left_on = 'content_id', right_on= 'parent_app_content_id', how = 'left', indicator = True)\n",
    "df2.shape\n",
    "df2._merge.value_counts()"
   ]
  },
  {
   "cell_type": "code",
   "execution_count": 99,
   "id": "c289139e",
   "metadata": {},
   "outputs": [
    {
     "data": {
      "text/plain": [
       "(3331747, 16)"
      ]
     },
     "execution_count": 99,
     "metadata": {},
     "output_type": "execute_result"
    }
   ],
   "source": [
    "# Raname column & drop column of df2\n",
    "df2 = df2.rename(columns = {'parent_app_content_id_y' :'parent_app_content_id'})\n",
    "df2 = df2.drop(['parent_app_content_id_x'], axis = 1)\n",
    "\n",
    "# Create an in-app indicator\n",
    "df1.loc[:,'in-app']=1\n",
    "df2.loc[:,'in-app']=0\n",
    "\n",
    "# Append df2 to df1 to combine the two dataframe\n",
    "df3 = df1.append(df2)\n",
    "df3.shape #Match with trans.shape"
   ]
  },
  {
   "cell_type": "markdown",
   "id": "3e468f28",
   "metadata": {},
   "source": [
    "#### Output 1: cleain transaction data"
   ]
  },
  {
   "cell_type": "code",
   "execution_count": 101,
   "id": "94d22b82",
   "metadata": {},
   "outputs": [],
   "source": [
    "df3.head()\n",
    "\n",
    "# Save cleaned transaction data\n",
    "df3.to_csv('CleanedTransaction.csv')"
   ]
  },
  {
   "cell_type": "markdown",
   "id": "e0d051a6",
   "metadata": {},
   "source": [
    "#### Output 2: aggreated app data (for Tableau usage)"
   ]
  },
  {
   "cell_type": "code",
   "execution_count": 103,
   "id": "56958c6a",
   "metadata": {},
   "outputs": [
    {
     "data": {
      "text/plain": [
       "1    2107\n",
       "2     269\n",
       "Name: consumable, dtype: int64"
      ]
     },
     "execution_count": 103,
     "metadata": {},
     "output_type": "execute_result"
    }
   ],
   "source": [
    "# Understand types of in-app purchase \n",
    "\n",
    "inapp['consumable'] = '1'\n",
    "inapp.loc[inapp.type == 'subscription',['consumable']] ='2'\n",
    "inapp.consumable.value_counts()"
   ]
  },
  {
   "cell_type": "code",
   "execution_count": 105,
   "id": "cdf86c83",
   "metadata": {},
   "outputs": [
    {
     "data": {
      "text/html": [
       "<div>\n",
       "<style scoped>\n",
       "    .dataframe tbody tr th:only-of-type {\n",
       "        vertical-align: middle;\n",
       "    }\n",
       "\n",
       "    .dataframe tbody tr th {\n",
       "        vertical-align: top;\n",
       "    }\n",
       "\n",
       "    .dataframe thead th {\n",
       "        text-align: right;\n",
       "    }\n",
       "</style>\n",
       "<table border=\"1\" class=\"dataframe\">\n",
       "  <thead>\n",
       "    <tr style=\"text-align: right;\">\n",
       "      <th></th>\n",
       "      <th>parent_app_content_id</th>\n",
       "      <th>consumable</th>\n",
       "      <th>in_app_avail</th>\n",
       "    </tr>\n",
       "  </thead>\n",
       "  <tbody>\n",
       "    <tr>\n",
       "      <th>0</th>\n",
       "      <td>8ead7768bac17788</td>\n",
       "      <td>1</td>\n",
       "      <td>1</td>\n",
       "    </tr>\n",
       "    <tr>\n",
       "      <th>1</th>\n",
       "      <td>324731e2a70c863c</td>\n",
       "      <td>1</td>\n",
       "      <td>1</td>\n",
       "    </tr>\n",
       "    <tr>\n",
       "      <th>2</th>\n",
       "      <td>6473dd29a2badbf1</td>\n",
       "      <td>1</td>\n",
       "      <td>1</td>\n",
       "    </tr>\n",
       "    <tr>\n",
       "      <th>3</th>\n",
       "      <td>d9f710f23002d173</td>\n",
       "      <td>1</td>\n",
       "      <td>1</td>\n",
       "    </tr>\n",
       "    <tr>\n",
       "      <th>4</th>\n",
       "      <td>304204f02257207e</td>\n",
       "      <td>1</td>\n",
       "      <td>1</td>\n",
       "    </tr>\n",
       "  </tbody>\n",
       "</table>\n",
       "</div>"
      ],
      "text/plain": [
       "  parent_app_content_id consumable  in_app_avail\n",
       "0      8ead7768bac17788          1             1\n",
       "1      324731e2a70c863c          1             1\n",
       "2      6473dd29a2badbf1          1             1\n",
       "3      d9f710f23002d173          1             1\n",
       "4      304204f02257207e          1             1"
      ]
     },
     "execution_count": 105,
     "metadata": {},
     "output_type": "execute_result"
    }
   ],
   "source": [
    "# Create in-app option # and binary variable for consumable items\n",
    "dfapp = inapp.groupby(['parent_app_content_id','consumable'])['content_id'].count().sort_values().reset_index().rename(columns = {'content_id':'in_app_avail'})\n",
    "dfapp.head()"
   ]
  },
  {
   "cell_type": "code",
   "execution_count": 106,
   "id": "a522e92d",
   "metadata": {},
   "outputs": [
    {
     "data": {
      "text/plain": [
       "<AxesSubplot:xlabel='in_app_avail'>"
      ]
     },
     "execution_count": 106,
     "metadata": {},
     "output_type": "execute_result"
    },
    {
     "data": {
      "image/png": "[encoded data removed]",
      "text/plain": [
       "<Figure size 432x288 with 1 Axes>"
      ]
     },
     "metadata": {},
     "output_type": "display_data"
    }
   ],
   "source": [
    "sns.boxplot(x=dfapp.in_app_avail)"
   ]
  },
  {
   "cell_type": "code",
   "execution_count": 108,
   "id": "6a5ecc05",
   "metadata": {},
   "outputs": [
    {
     "name": "stdout",
     "output_type": "stream",
     "text": [
      "(1000, 8)\n"
     ]
    },
    {
     "data": {
      "text/html": [
       "<div>\n",
       "<style scoped>\n",
       "    .dataframe tbody tr th:only-of-type {\n",
       "        vertical-align: middle;\n",
       "    }\n",
       "\n",
       "    .dataframe tbody tr th {\n",
       "        vertical-align: top;\n",
       "    }\n",
       "\n",
       "    .dataframe thead th {\n",
       "        text-align: right;\n",
       "    }\n",
       "</style>\n",
       "<table border=\"1\" class=\"dataframe\">\n",
       "  <thead>\n",
       "    <tr style=\"text-align: right;\">\n",
       "      <th></th>\n",
       "      <th>app_name</th>\n",
       "      <th>parent_app_content_id</th>\n",
       "      <th>category_id</th>\n",
       "      <th>app_device_id</th>\n",
       "      <th>category_name</th>\n",
       "      <th>app_device_name</th>\n",
       "      <th>consumable</th>\n",
       "      <th>in_app_avail</th>\n",
       "    </tr>\n",
       "  </thead>\n",
       "  <tbody>\n",
       "    <tr>\n",
       "      <th>0</th>\n",
       "      <td>half-slouched having</td>\n",
       "      <td>22dfac9721b899cb</td>\n",
       "      <td>Y-8</td>\n",
       "      <td>3</td>\n",
       "      <td>Photos &amp; Videos</td>\n",
       "      <td>Both</td>\n",
       "      <td>1</td>\n",
       "      <td>1.0</td>\n",
       "    </tr>\n",
       "    <tr>\n",
       "      <th>1</th>\n",
       "      <td>That Zoology</td>\n",
       "      <td>6473dd29a2badbf1</td>\n",
       "      <td>Y-8</td>\n",
       "      <td>3</td>\n",
       "      <td>Photos &amp; Videos</td>\n",
       "      <td>Both</td>\n",
       "      <td>1</td>\n",
       "      <td>1.0</td>\n",
       "    </tr>\n",
       "    <tr>\n",
       "      <th>2</th>\n",
       "      <td>careful!--come stubbornly</td>\n",
       "      <td>ee013dcbf9ecc2b1</td>\n",
       "      <td>Y-8</td>\n",
       "      <td>3</td>\n",
       "      <td>Photos &amp; Videos</td>\n",
       "      <td>Both</td>\n",
       "      <td>1</td>\n",
       "      <td>4.0</td>\n",
       "    </tr>\n",
       "    <tr>\n",
       "      <th>3</th>\n",
       "      <td>Bang background</td>\n",
       "      <td>1c85ae3c9505ff55</td>\n",
       "      <td>Y-8</td>\n",
       "      <td>3</td>\n",
       "      <td>Photos &amp; Videos</td>\n",
       "      <td>Both</td>\n",
       "      <td>1</td>\n",
       "      <td>3.0</td>\n",
       "    </tr>\n",
       "    <tr>\n",
       "      <th>4</th>\n",
       "      <td>tides multitudinously</td>\n",
       "      <td>83f2675cd07166c3</td>\n",
       "      <td>Y-8</td>\n",
       "      <td>3</td>\n",
       "      <td>Photos &amp; Videos</td>\n",
       "      <td>Both</td>\n",
       "      <td>1</td>\n",
       "      <td>2.0</td>\n",
       "    </tr>\n",
       "  </tbody>\n",
       "</table>\n",
       "</div>"
      ],
      "text/plain": [
       "                    app_name parent_app_content_id category_id  app_device_id  \\\n",
       "0       half-slouched having      22dfac9721b899cb         Y-8              3   \n",
       "1               That Zoology      6473dd29a2badbf1         Y-8              3   \n",
       "2  careful!--come stubbornly      ee013dcbf9ecc2b1         Y-8              3   \n",
       "3            Bang background      1c85ae3c9505ff55         Y-8              3   \n",
       "4      tides multitudinously      83f2675cd07166c3         Y-8              3   \n",
       "\n",
       "     category_name app_device_name consumable  in_app_avail  \n",
       "0  Photos & Videos            Both          1           1.0  \n",
       "1  Photos & Videos            Both          1           1.0  \n",
       "2  Photos & Videos            Both          1           4.0  \n",
       "3  Photos & Videos            Both          1           3.0  \n",
       "4  Photos & Videos            Both          1           2.0  "
      ]
     },
     "execution_count": 108,
     "metadata": {},
     "output_type": "execute_result"
    }
   ],
   "source": [
    "#Create app meta data\n",
    "app1 = pd.merge(app, dfapp, on = 'parent_app_content_id', how = 'left')\n",
    "print(app1.shape)\n",
    "app1.head()"
   ]
  },
  {
   "cell_type": "code",
   "execution_count": 109,
   "id": "a47c72bd",
   "metadata": {},
   "outputs": [],
   "source": [
    "app1.to_csv('app_detail.csv')"
   ]
  }
 ],
 "metadata": {
  "kernelspec": {
   "display_name": "Python 3",
   "language": "python",
   "name": "python3"
  },
  "language_info": {
   "codemirror_mode": {
    "name": "ipython",
    "version": 3
   },
   "file_extension": ".py",
   "mimetype": "text/x-python",
   "name": "python",
   "nbconvert_exporter": "python",
   "pygments_lexer": "ipython3",
   "version": "3.7.7"
  }
 },
 "nbformat": 4,
 "nbformat_minor": 5
}
